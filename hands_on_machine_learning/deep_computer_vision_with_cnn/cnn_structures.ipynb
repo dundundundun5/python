{
 "cells": [
  {
   "cell_type": "code",
   "execution_count": 4,
   "metadata": {},
   "outputs": [],
   "source": [
    "import tensorflow as tf\n",
    "import numpy as np\n",
    "from tensorflow import keras"
   ]
  },
  {
   "cell_type": "markdown",
   "metadata": {},
   "source": [
    "Tackling Fashion MNIST with a CNN"
   ]
  },
  {
   "cell_type": "markdown",
   "metadata": {},
   "source": [
    "数据预处理"
   ]
  },
  {
   "cell_type": "code",
   "execution_count": 2,
   "metadata": {},
   "outputs": [],
   "source": [
    "(X_train_full, y_train_full), (X_test, y_test) = keras.datasets.fashion_mnist.load_data()\n",
    "X_train, X_valid = X_train_full[:-5000], X_train_full[-5000:]\n",
    "y_train, y_valid = y_train_full[:-5000], y_train_full[-5000:]\n",
    "\n",
    "X_mean = X_train.mean(axis=0, keepdims=True)\n",
    "X_std = X_train.std(axis=0, keepdims=True) + 1e-7\n",
    "X_train = (X_train - X_mean) / X_std\n",
    "X_valid = (X_valid - X_mean) / X_std\n",
    "X_test = (X_test - X_mean) / X_std\n",
    "\n",
    "# ...表示np的索引\n",
    "# np.newaxie表示新增维度\n",
    "X_train = X_train[..., np.newaxis]\n",
    "X_valid = X_valid[..., np.newaxis]\n",
    "X_test = X_test[..., np.newaxis]"
   ]
  },
  {
   "cell_type": "markdown",
   "metadata": {},
   "source": [
    "创建简单的CNN处理Fashion MNIST"
   ]
  },
  {
   "cell_type": "code",
   "execution_count": 5,
   "metadata": {},
   "outputs": [],
   "source": [
    "from functools import partial\n",
    "# 偏函数partial(原函数,原函数参数...)\n",
    "# 将返回一个新的函数，该函数固定了原函数的某些参数\n",
    "# partial用于增强原函数，简化使用\n",
    "DefaultConv2D = partial(keras.layers.Conv2D,\n",
    "                        kernel_size=3, activation=\"relu\", padding=\"SAME\")\n",
    "model = keras.models.Sequential([\n",
    "    # 没有步幅是因为输入图像不大， 图象是28x28具有单个颜色通道\n",
    "    DefaultConv2D(filters=64, kernel_size=7, input_shape=[28, 28, 1]),\n",
    "    # 最大池化层，内核为2x2，步幅大小为2的池化层，最终将每个空间维度/2\n",
    "    keras.layers.MaxPooling2D(pool_size=2),\n",
    "    # 两个卷积层+一个最大池化层\n",
    "    DefaultConv2D(filters=128),\n",
    "    DefaultConv2D(filters=128),\n",
    "    keras.layers.MaxPooling2D(pool_size=2),\n",
    "    # 随着CNN向输出层延申，滤波器的数量会增加，\n",
    "    # 用更多不同方法将低层特征组成更高层次的特征\n",
    "    DefaultConv2D(filters=256),\n",
    "    DefaultConv2D(filters=256),\n",
    "    # 必须将输入展平，密集网络需要每个实例的一维特征阵列\n",
    "    keras.layers.Flatten(),\n",
    "    keras.layers.Dense(units=128, activation=\"relu\"),\n",
    "    # dropout正则化，防止过拟合\n",
    "    # https://blog.csdn.net/yangwohenmai1/article/details/123346240\n",
    "    keras.layers.Dropout(0.5),\n",
    "    keras.layers.Dense(units=64, activation=\"relu\"),\n",
    "    keras.layers.Dropout(0.5),\n",
    "    keras.layers.Dense(units=10, activation=\"softmax\"),\n",
    "])"
   ]
  },
  {
   "cell_type": "code",
   "execution_count": 6,
   "metadata": {},
   "outputs": [
    {
     "name": "stdout",
     "output_type": "stream",
     "text": [
      "Epoch 1/10\n",
      "1719/1719 [==============================] - 41s 20ms/step - loss: 0.6954 - accuracy: 0.7636 - val_loss: 0.3558 - val_accuracy: 0.8716\n",
      "Epoch 2/10\n",
      "1719/1719 [==============================] - 34s 20ms/step - loss: 0.4192 - accuracy: 0.8610 - val_loss: 0.3105 - val_accuracy: 0.8864\n",
      "Epoch 3/10\n",
      "1719/1719 [==============================] - 34s 20ms/step - loss: 0.3615 - accuracy: 0.8780 - val_loss: 0.2993 - val_accuracy: 0.8922\n",
      "Epoch 4/10\n",
      "1719/1719 [==============================] - 34s 20ms/step - loss: 0.3334 - accuracy: 0.8875 - val_loss: 0.2891 - val_accuracy: 0.8978\n",
      "Epoch 5/10\n",
      "1719/1719 [==============================] - 34s 20ms/step - loss: 0.3079 - accuracy: 0.8941 - val_loss: 0.2833 - val_accuracy: 0.8938\n",
      "Epoch 6/10\n",
      "1719/1719 [==============================] - 34s 20ms/step - loss: 0.2881 - accuracy: 0.9021 - val_loss: 0.3040 - val_accuracy: 0.9034\n",
      "Epoch 7/10\n",
      "1719/1719 [==============================] - 34s 20ms/step - loss: 0.2833 - accuracy: 0.9022 - val_loss: 0.2541 - val_accuracy: 0.9064\n",
      "Epoch 8/10\n",
      "1719/1719 [==============================] - 34s 20ms/step - loss: 0.2634 - accuracy: 0.9102 - val_loss: 0.2858 - val_accuracy: 0.9020\n",
      "Epoch 9/10\n",
      "1719/1719 [==============================] - 34s 20ms/step - loss: 0.2626 - accuracy: 0.9115 - val_loss: 0.2924 - val_accuracy: 0.9018\n",
      "Epoch 10/10\n",
      "1719/1719 [==============================] - 34s 20ms/step - loss: 0.2547 - accuracy: 0.9142 - val_loss: 0.2798 - val_accuracy: 0.8978\n",
      "313/313 [==============================] - 2s 6ms/step - loss: 0.2884 - accuracy: 0.8980\n",
      "1/1 [==============================] - 0s 264ms/step\n"
     ]
    }
   ],
   "source": [
    "model.compile(loss=\"sparse_categorical_crossentropy\", optimizer=\"nadam\", metrics=[\"accuracy\"])\n",
    "history = model.fit(X_train, y_train, epochs=10, validation_data=(X_valid, y_valid))\n",
    "score = model.evaluate(X_test, y_test)\n",
    "X_new = X_test[:10] # pretend we have new images\n",
    "y_pred = model.predict(X_new)"
   ]
  }
 ],
 "metadata": {
  "kernelspec": {
   "display_name": "Python 3.10.7 64-bit",
   "language": "python",
   "name": "python3"
  },
  "language_info": {
   "codemirror_mode": {
    "name": "ipython",
    "version": 3
   },
   "file_extension": ".py",
   "mimetype": "text/x-python",
   "name": "python",
   "nbconvert_exporter": "python",
   "pygments_lexer": "ipython3",
   "version": "3.10.7"
  },
  "orig_nbformat": 4,
  "vscode": {
   "interpreter": {
    "hash": "6cd7ecbf46b3498f952f614292bd9b98de37d868a382baadab1fa3f5188ed6c2"
   }
  }
 },
 "nbformat": 4,
 "nbformat_minor": 2
}
