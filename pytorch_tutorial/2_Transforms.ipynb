{
 "cells": [
  {
   "cell_type": "markdown",
   "metadata": {},
   "source": [
    "所有TorchVision数据集都有两个参数-用于修改特性的transform和用于修改标签的target_transform-它们接受包含转换逻辑的调用。手电筒。transforms模块提供了几种常用的开箱即用的转换。\n",
    "\n",
    "1. FashionMNIST功能采用PIL图像格式\n",
    "2. ToTensor将PIL图像或NumPy ndarray转换为FloatTensor。并在[0.，1]范围内缩放图像的像素强度值\n",
    "3. Lambda转换应用任何用户定义的Lambda函数。\n",
    "\n",
    "    首先创建一个大小为10的零张量（我们数据集中标签的数量），并调用scatter_为标签（y）等于1所在的索引指定value=1"
   ]
  },
  {
   "cell_type": "code",
   "execution_count": 3,
   "metadata": {},
   "outputs": [],
   "source": [
    "import torch\n",
    "from torchvision import datasets\n",
    "from torchvision.transforms import ToTensor, Lambda\n",
    "\n",
    "ds = datasets.FashionMNIST(\n",
    "    root='D:\\\\temp_files\\\\datasets',\n",
    "    train=True,\n",
    "    download=True,\n",
    "    # \n",
    "    transform=ToTensor(),\n",
    "    target_transform=\n",
    "    Lambda(lambda y: torch.zeros(10, dtype=torch.float).scatter_(0, torch.tensor(y), value=1))   \n",
    ")"
   ]
  }
 ],
 "metadata": {
  "kernelspec": {
   "display_name": "Python 3.9.13 ('base')",
   "language": "python",
   "name": "python3"
  },
  "language_info": {
   "codemirror_mode": {
    "name": "ipython",
    "version": 3
   },
   "file_extension": ".py",
   "mimetype": "text/x-python",
   "name": "python",
   "nbconvert_exporter": "python",
   "pygments_lexer": "ipython3",
   "version": "3.9.13"
  },
  "orig_nbformat": 4,
  "vscode": {
   "interpreter": {
    "hash": "f76d4fda128b12615e46e0e8dd834a222e7abd956eb53de74309670d1db4104c"
   }
  }
 },
 "nbformat": 4,
 "nbformat_minor": 2
}
