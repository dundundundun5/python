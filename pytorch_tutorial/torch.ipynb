{
 "cells": [
  {
   "cell_type": "code",
   "execution_count": 6,
   "metadata": {},
   "outputs": [],
   "source": [
    "import torch\n",
    "import torch.nn as nn\n",
    "import torchvision\n",
    "import numpy as np\n",
    "import torchvision.transforms as transforms\n",
    "from torch.utils.data import Dataset, DataLoader\n",
    "from torch import optim\n",
    "import pandas as pd                                                             \n",
    "from sklearn.metrics import accuracy_score,precision_score,recall_score "
   ]
  },
  {
   "cell_type": "code",
   "execution_count": 7,
   "metadata": {},
   "outputs": [],
   "source": [
    "device = torch.device('cuda' if torch.cuda.is_available() else 'cpu')"
   ]
  },
  {
   "cell_type": "code",
   "execution_count": 8,
   "metadata": {},
   "outputs": [],
   "source": [
    "class MyDateset(Dataset):\n",
    "    \n",
    "    def __init__(self, root, train,transform=None, target_transform=None):\n",
    "        self.root = root\n",
    "        self.transform = transform\n",
    "        self.target_transform = target_transform\n",
    "        self.data = pd.read_csv(root)\n",
    "        self.train = train\n",
    "        if train:\n",
    "            # 标签列默认最后一列\n",
    "            self.X = self.data.iloc[:, :-1]\n",
    "            self.y = self.data.iloc[:, -1]\n",
    "        else:\n",
    "            self.X = self.data\n",
    "            self.y = None\n",
    "    def __getitem__(self, index):\n",
    "        if self.train:\n",
    "            return (self.X.iloc[index], self.y.iloc[index])\n",
    "        else:\n",
    "            return self.X.loc[index] \n",
    "    \n",
    "    def __len__(self):\n",
    "        return len(self.data)"
   ]
  },
  {
   "cell_type": "code",
   "execution_count": 9,
   "metadata": {},
   "outputs": [],
   "source": [
    "data = MyDateset('D:/temp_files/datasets/spaceship_titanic/train.csv', train=True)\n",
    "X, y = data.__getitem__(2)"
   ]
  },
  {
   "cell_type": "code",
   "execution_count": 10,
   "metadata": {},
   "outputs": [],
   "source": [
    "def train_test_dataloader(train:Dataset, test:Dataset, batch_size, shuffle=False):\n",
    "    former = torch.utils.data.DataLoader(dataset=train, batch_size=batch_size, shuffle=shuffle)\n",
    "    latter = torch.utils.data.DataLoader(dataset=test, batch_size=batch_size, shuffle=shuffle)\n",
    "    return former, latter"
   ]
  },
  {
   "cell_type": "code",
   "execution_count": 11,
   "metadata": {},
   "outputs": [],
   "source": [
    "class MyNeuralNetwork(nn.Module):\n",
    "    def __init__(self, input_size, hidden_size, num_classes):\n",
    "        super(MyNeuralNetwork, self).__init__()\n",
    "        self.linear_relu_sequential = nn.Sequential(\n",
    "            nn.Linear(input_size, hidden_size),\n",
    "            nn.ReLU(),\n",
    "            nn.Linear(hidden_size, hidden_size),\n",
    "            nn.ReLU(),\n",
    "            nn.Linear(hidden_size, num_classes),\n",
    "        )\n",
    "    def forward(self, x):\n",
    "        return self.linear_relu_sequential(x)"
   ]
  },
  {
   "cell_type": "code",
   "execution_count": 12,
   "metadata": {},
   "outputs": [],
   "source": [
    "input_size = 10\n",
    "hidden_size = 20\n",
    "num_classes = 2\n",
    "num_epochs = 10\n",
    "batch_size = 64\n",
    "learning_rate = 1e-3\n",
    "model = MyNeuralNetwork(input_size, hidden_size, num_classes)\n",
    "loss_function = nn.CrossEntropyLoss()\n",
    "optimizer = torch.optim.SGD(model.parameters(), lr=learning_rate)"
   ]
  },
  {
   "cell_type": "code",
   "execution_count": 13,
   "metadata": {},
   "outputs": [],
   "source": [
    "def train_validate_loops(train:DataLoader, \n",
    "                         validate:DataLoader, \n",
    "                         model,\n",
    "                         num_epochs,\n",
    "                         loss_function, \n",
    "                         optimizer):\n",
    "    for num_epoch in range(num_epochs):\n",
    "        print(f\"轮次 {num_epoch + 1}\\n------------------------------\\n训练集：\\n\")\n",
    "        n = len(train.dataset)\n",
    "        for batch, (train_X, train_y) in enumerate(train):\n",
    "            # 计算预测和损失\n",
    "            train_y_pred = model(train_X)\n",
    "            loss = loss_function(train_y_pred, train_y)\n",
    "            # 反向传播\n",
    "            optimizer.zero_grad()\n",
    "            loss.backward()\n",
    "            optimizer.step()\n",
    "            # 每X批 显示一次loss，batch和100的最小公倍数\n",
    "            if batch % 100 == 0:\n",
    "                loss, current = loss.item(), batch * len(train_X)\n",
    "                print(f\"当前损失:{loss:7f}\\t[{current:5d}/{n:>5d}]\")\n",
    "        # 小批量\n",
    "        num_batches = len(validate)\n",
    "        validate_loss, accuracy = 0, 0\n",
    "        y_full = np.array([])\n",
    "        y_pred_full = np.array([])\n",
    "        with torch.no_grad():\n",
    "            for (validata_X, validate_y) in validate:\n",
    "                validate_y_pred = model(validata_X)\n",
    "                validate_loss += loss_function(validate_y_pred, validate_y).item()\n",
    "                validate_y_pred = validate_y_pred.argmax(1)\n",
    "                y_full = np.append(y_full, validate_y.numpy())\n",
    "                y_pred_full = np.append(y_pred_full, validate_y_pred.numpy())\n",
    "        validate_loss /= num_batches \n",
    "        accuracy = accuracy_score(y_full, y_pred_full)\n",
    "        # 二分类就是average='binaray'\n",
    "        precision = precision_score(y_full, y_pred_full, average='macro')\n",
    "        recall = recall_score(y_full, y_pred_full, average='macro')\n",
    "        print(f\"验证集：\\n 准确度：{accuracy*100}%，精确度：{precision*100}%，召回率：{recall*100}%\\n平均损失：{validate_loss:>8f} \")\n",
    "        print(\"=======================================\")"
   ]
  }
 ],
 "metadata": {
  "kernelspec": {
   "display_name": "base",
   "language": "python",
   "name": "python3"
  },
  "language_info": {
   "codemirror_mode": {
    "name": "ipython",
    "version": 3
   },
   "file_extension": ".py",
   "mimetype": "text/x-python",
   "name": "python",
   "nbconvert_exporter": "python",
   "pygments_lexer": "ipython3",
   "version": "3.9.13"
  },
  "orig_nbformat": 4,
  "vscode": {
   "interpreter": {
    "hash": "f76d4fda128b12615e46e0e8dd834a222e7abd956eb53de74309670d1db4104c"
   }
  }
 },
 "nbformat": 4,
 "nbformat_minor": 2
}
