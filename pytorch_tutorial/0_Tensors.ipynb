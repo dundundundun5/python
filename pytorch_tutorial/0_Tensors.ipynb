{
 "cells": [
  {
   "cell_type": "markdown",
   "metadata": {},
   "source": [
    "tensor是pytorch中用于对模型输入输出进行编码的一种数据类型\n",
    "\n",
    "它和ndarray很相似，然而tensor可以使用GPU加速，还能执行自动微分"
   ]
  },
  {
   "cell_type": "code",
   "execution_count": 6,
   "metadata": {},
   "outputs": [],
   "source": [
    "import torch\n",
    "import numpy as np"
   ]
  },
  {
   "cell_type": "markdown",
   "metadata": {},
   "source": [
    "创建一个tensor有很多种方法\n"
   ]
  },
  {
   "cell_type": "code",
   "execution_count": 2,
   "metadata": {},
   "outputs": [],
   "source": [
    "# 直接通过数据创建\n",
    "data = [[1, 2], [3, 4]]\n",
    "x_data = torch.tensor(data)"
   ]
  },
  {
   "cell_type": "code",
   "execution_count": 3,
   "metadata": {},
   "outputs": [],
   "source": [
    "# 通过np数组创建\n",
    "np_array = np.array(data)\n",
    "x_np = torch.from_numpy(np_array)"
   ]
  },
  {
   "cell_type": "code",
   "execution_count": 4,
   "metadata": {},
   "outputs": [
    {
     "name": "stdout",
     "output_type": "stream",
     "text": [
      "Ones Tensor:\n",
      " tensor([[1, 1],\n",
      "        [1, 1]])\n",
      "\n",
      "Random Tensor:\n",
      " tensor([[0.1669, 0.6030],\n",
      "        [0.7654, 0.5285]])\n",
      "\n"
     ]
    }
   ],
   "source": [
    "# 借助其他tensor创建，会保留tensor的属性但重写其数值\n",
    "x_ones = torch.ones_like(x_data)\n",
    "print(f\"Ones Tensor:\\n {x_ones}\\n\")\n",
    "# 通过设置dtype来重写变量的类型\n",
    "x_rand = torch.rand_like(x_data, dtype=torch.float)\n",
    "print(f\"Random Tensor:\\n {x_rand}\\n\")\n"
   ]
  },
  {
   "cell_type": "code",
   "execution_count": 5,
   "metadata": {},
   "outputs": [
    {
     "name": "stdout",
     "output_type": "stream",
     "text": [
      "Random Tensor: tensor([[0.9030, 0.3067, 0.8302],\n",
      "        [0.9347, 0.3459, 0.5094]])\n",
      "Ones Tensor: tensor([[1., 1., 1.],\n",
      "        [1., 1., 1.]])\n",
      "Zeros Tensor: tensor([[0., 0., 0.],\n",
      "        [0., 0., 0.]])\n"
     ]
    }
   ],
   "source": [
    "# 通过随机数或者常量创建\n",
    "# shape是一个元组，决定了tensor的形状\n",
    "shape = (2,3,)\n",
    "rand_tensor = torch.rand(shape)\n",
    "ones_tensor = torch.ones(shape)\n",
    "zeros_tensor = torch.zeros(shape)\n",
    "print(\"Random Tensor:\", rand_tensor)\n",
    "print(\"Ones Tensor:\", ones_tensor)\n",
    "print(\"Zeros Tensor:\", zeros_tensor)"
   ]
  },
  {
   "cell_type": "markdown",
   "metadata": {},
   "source": [
    "tensor自带一些属性：大小、类型、设备，如下"
   ]
  },
  {
   "cell_type": "code",
   "execution_count": 7,
   "metadata": {},
   "outputs": [
    {
     "name": "stdout",
     "output_type": "stream",
     "text": [
      "Shape:torch.Size([3, 4])\n",
      "Datatype:torch.float32\n",
      "Device Storedcpu \n"
     ]
    }
   ],
   "source": [
    "tensor = torch.rand(3, 4)\n",
    "print(f\"Shape:{tensor.shape}\\nDatatype:{tensor.dtype}\\nDevice Stored{tensor.device} \")"
   ]
  },
  {
   "cell_type": "markdown",
   "metadata": {},
   "source": [
    "默认情况下tensor在CPU上创建，需要显式调用才能转到GPU上"
   ]
  },
  {
   "cell_type": "code",
   "execution_count": 9,
   "metadata": {},
   "outputs": [
    {
     "data": {
      "text/plain": [
       "True"
      ]
     },
     "execution_count": 9,
     "metadata": {},
     "output_type": "execute_result"
    }
   ],
   "source": [
    "torch.cuda.is_available()"
   ]
  },
  {
   "cell_type": "code",
   "execution_count": 8,
   "metadata": {},
   "outputs": [],
   "source": [
    "# 如果有gpu，则把tensor移到GPU上\n",
    "if torch.cuda.is_available():\n",
    "    tensor = tensor.to(\"cuda\")"
   ]
  },
  {
   "cell_type": "markdown",
   "metadata": {},
   "source": [
    "tensor的操作非常类似ndarray的操作，如下所示："
   ]
  },
  {
   "cell_type": "code",
   "execution_count": 14,
   "metadata": {},
   "outputs": [
    {
     "name": "stdout",
     "output_type": "stream",
     "text": [
      "第一行: tensor([0.4913, 0.7721, 0.1531, 0.3529])\n",
      "第一列: tensor([0.4913, 0.3727, 0.6369, 0.4981])\n",
      "最后一列: tensor([0.3529, 0.1438, 0.1039, 0.4589])\n",
      "tensor([[0.4913, 0.0000, 0.1531, 0.3529],\n",
      "        [0.3727, 0.0000, 0.0983, 0.1438],\n",
      "        [0.6369, 0.0000, 0.8400, 0.1039],\n",
      "        [0.4981, 0.0000, 0.7362, 0.4589]])\n"
     ]
    }
   ],
   "source": [
    "tensor = torch.rand(4, 4)\n",
    "print(f\"第一行: {tensor[0]}\")\n",
    "print(f\"第一列: {tensor[:, 0]}\")\n",
    "# ...和:的作用几乎一致\n",
    "print(f\"最后一列: {tensor[..., -1]}\")\n",
    "tensor[:, 1] = 0\n",
    "print(tensor)"
   ]
  },
  {
   "cell_type": "markdown",
   "metadata": {},
   "source": [
    "拼接tensor也是一件很容易的事情，还能指定拼接依据的维度（和pandas一致）"
   ]
  },
  {
   "cell_type": "code",
   "execution_count": 15,
   "metadata": {},
   "outputs": [
    {
     "name": "stdout",
     "output_type": "stream",
     "text": [
      "tensor([[0.4913, 0.0000, 0.1531, 0.3529, 0.4913, 0.0000, 0.1531, 0.3529, 0.4913,\n",
      "         0.0000, 0.1531, 0.3529],\n",
      "        [0.3727, 0.0000, 0.0983, 0.1438, 0.3727, 0.0000, 0.0983, 0.1438, 0.3727,\n",
      "         0.0000, 0.0983, 0.1438],\n",
      "        [0.6369, 0.0000, 0.8400, 0.1039, 0.6369, 0.0000, 0.8400, 0.1039, 0.6369,\n",
      "         0.0000, 0.8400, 0.1039],\n",
      "        [0.4981, 0.0000, 0.7362, 0.4589, 0.4981, 0.0000, 0.7362, 0.4589, 0.4981,\n",
      "         0.0000, 0.7362, 0.4589]])\n"
     ]
    }
   ],
   "source": [
    "t1 = torch.cat([tensor, tensor, tensor], dim=1)\n",
    "print(t1)"
   ]
  },
  {
   "cell_type": "markdown",
   "metadata": {},
   "source": [
    "张量之间可以进行一些矩阵运算（api偏底层，但设计轻巧，灵活度很高）"
   ]
  },
  {
   "cell_type": "code",
   "execution_count": 16,
   "metadata": {},
   "outputs": [],
   "source": [
    "# 计算两个张量的矩阵乘积 张量*自身转置\n",
    "# y1 y2 y3是相同的结果\n",
    "y1 = tensor @ tensor.T\n",
    "y2 = tensor.matmul(tensor.T)\n",
    "# y3 = torch.ones_like(y1)\n",
    "# torch.matmul(tensor, tensor.T, out=y3)\n",
    "y3 = torch.matmul(tensor, tensor.T)"
   ]
  },
  {
   "cell_type": "code",
   "execution_count": 17,
   "metadata": {},
   "outputs": [],
   "source": [
    "# 计算两个张量的对应元素乘积\n",
    "# z1 z2 z3 是相同的结果\n",
    "z1 = tensor * tensor\n",
    "z2 = tensor.mul(tensor)\n",
    "z3 = torch.mul(tensor, tensor)"
   ]
  },
  {
   "cell_type": "markdown",
   "metadata": {},
   "source": [
    "单变量tensor可以通过item()方法转为python基本类型"
   ]
  },
  {
   "cell_type": "code",
   "execution_count": 18,
   "metadata": {},
   "outputs": [
    {
     "name": "stdout",
     "output_type": "stream",
     "text": [
      "4.885901927947998 <class 'float'>\n"
     ]
    }
   ],
   "source": [
    "agg = tensor.sum()\n",
    "agg_item = agg.item()\n",
    "print(agg_item, type(agg_item))"
   ]
  },
  {
   "cell_type": "markdown",
   "metadata": {},
   "source": [
    "in-place操作符，是把操作符的运算结果存储覆盖至其调用对象的操作符，这类操作符一般会加上一个下划线后缀，如add_() copy_() t_()\n",
    "\n",
    "虽然in-place操作符省内存，但计算的时候容易覆盖历史结果，因此还是少用为好"
   ]
  },
  {
   "cell_type": "code",
   "execution_count": 19,
   "metadata": {},
   "outputs": [
    {
     "name": "stdout",
     "output_type": "stream",
     "text": [
      "tensor([[0.4913, 0.0000, 0.1531, 0.3529],\n",
      "        [0.3727, 0.0000, 0.0983, 0.1438],\n",
      "        [0.6369, 0.0000, 0.8400, 0.1039],\n",
      "        [0.4981, 0.0000, 0.7362, 0.4589]])\n",
      "tensor([[5.4913, 5.0000, 5.1531, 5.3529],\n",
      "        [5.3727, 5.0000, 5.0983, 5.1438],\n",
      "        [5.6369, 5.0000, 5.8400, 5.1039],\n",
      "        [5.4981, 5.0000, 5.7362, 5.4589]])\n"
     ]
    }
   ],
   "source": [
    "print(tensor)\n",
    "tensor.add_(5)\n",
    "print(tensor)"
   ]
  },
  {
   "cell_type": "markdown",
   "metadata": {},
   "source": [
    "在CPU上存储的tensor和numpy数组实际上底层存储位置是相同的，因此改变一个会改变另一个"
   ]
  },
  {
   "cell_type": "markdown",
   "metadata": {},
   "source": [
    "Tensor -> Numpy Array"
   ]
  },
  {
   "cell_type": "code",
   "execution_count": 20,
   "metadata": {},
   "outputs": [
    {
     "name": "stdout",
     "output_type": "stream",
     "text": [
      "t: tensor([1., 1., 1., 1., 1.])\n",
      "n: [1. 1. 1. 1. 1.]\n"
     ]
    }
   ],
   "source": [
    "t = torch.ones(5)\n",
    "print(\"t:\", t)\n",
    "n = t.numpy()\n",
    "print(\"n:\", n)"
   ]
  },
  {
   "cell_type": "code",
   "execution_count": 21,
   "metadata": {},
   "outputs": [
    {
     "name": "stdout",
     "output_type": "stream",
     "text": [
      "tensor([2., 2., 2., 2., 2.])\n",
      "[2. 2. 2. 2. 2.]\n"
     ]
    }
   ],
   "source": [
    "# 浅复制\n",
    "t.add_(1)\n",
    "print(t)\n",
    "print(n)"
   ]
  },
  {
   "cell_type": "markdown",
   "metadata": {},
   "source": [
    "Numpy Array -> Tensor"
   ]
  },
  {
   "cell_type": "code",
   "execution_count": 22,
   "metadata": {},
   "outputs": [],
   "source": [
    "n = np.ones(5)\n",
    "t = torch.from_numpy(n)"
   ]
  },
  {
   "cell_type": "code",
   "execution_count": 23,
   "metadata": {},
   "outputs": [
    {
     "name": "stdout",
     "output_type": "stream",
     "text": [
      "tensor([2., 2., 2., 2., 2.], dtype=torch.float64)\n",
      "[2. 2. 2. 2. 2.]\n"
     ]
    }
   ],
   "source": [
    "np.add(n, 1, out=n)\n",
    "print(t)\n",
    "print(n)"
   ]
  }
 ],
 "metadata": {
  "kernelspec": {
   "display_name": "Python 3.9.13 ('base')",
   "language": "python",
   "name": "python3"
  },
  "language_info": {
   "codemirror_mode": {
    "name": "ipython",
    "version": 3
   },
   "file_extension": ".py",
   "mimetype": "text/x-python",
   "name": "python",
   "nbconvert_exporter": "python",
   "pygments_lexer": "ipython3",
   "version": "3.9.13"
  },
  "orig_nbformat": 4,
  "vscode": {
   "interpreter": {
    "hash": "f76d4fda128b12615e46e0e8dd834a222e7abd956eb53de74309670d1db4104c"
   }
  }
 },
 "nbformat": 4,
 "nbformat_minor": 2
}
