{
 "cells": [
  {
   "cell_type": "code",
   "execution_count": 1,
   "metadata": {},
   "outputs": [],
   "source": [
    "import pandas as pd\n",
    "path = \"D:/temp_files/datasets/spaceship_titanic/\"\n",
    "train_full = pd.read_csv(path + \"train_full.csv\")\n",
    "test_X = pd.read_csv(path + \"test_full.csv\")\n",
    "test = pd.read_csv(path + \"test.csv\")\n",
    "from sklearn.model_selection import train_test_split\n",
    "train_full_X = train_full.drop(axis=1,labels='Transported')\n",
    "train_full_y = pd.DataFrame(data=train_full['Transported'],columns=['Transported'])\n",
    "train_X, valid_X, train_y, valid_y = train_test_split(train_full_X, train_full_y, test_size=0.1)\n",
    "from sklearn.metrics import mean_absolute_error"
   ]
  },
  {
   "cell_type": "code",
   "execution_count": null,
   "metadata": {},
   "outputs": [],
   "source": []
  },
  {
   "cell_type": "code",
   "execution_count": null,
   "metadata": {},
   "outputs": [],
   "source": []
  },
  {
   "cell_type": "code",
   "execution_count": 3,
   "metadata": {},
   "outputs": [
    {
     "name": "stdout",
     "output_type": "stream",
     "text": [
      "134/134 [==============================] - 0s 3ms/step\n"
     ]
    }
   ],
   "source": [
    "from tensorflow import keras\n",
    "mlp_model = keras.models.Sequential([\n",
    "    keras.layers.InputLayer(input_shape=[train_X.shape[1]]),\n",
    "    keras.layers.Dense(20, activation='relu'),\n",
    "    keras.layers.Dense(15, activation='relu'),\n",
    "    keras.layers.Dense(10, activation='softmax')\n",
    "])\n",
    "mlp_model.compile(loss='sparse_categorical_crossentropy',optimizer=keras.optimizers.SGD(learning_rate=1e-3),metrics=['accuracy'])\n",
    "history = mlp_model.fit(train_X, train_y, epochs=50,validation_data=(valid_X, valid_y))\n",
    "import numpy as np\n",
    "predictions = np.argmax(mlp_model.predict(test_X), axis=1)\n",
    "\n",
    "output = pd.DataFrame({'PassengerId': test.PassengerId, 'Transported': predictions})\n",
    "output['Transported'] = output['Transported'].astype('bool')\n",
    "output.to_csv('submission_mlp.csv', index=False)\n"
   ]
  },
  {
   "cell_type": "code",
   "execution_count": 4,
   "metadata": {},
   "outputs": [],
   "source": [
    "from sklearn.model_selection import train_test_split, RandomizedSearchCV,StratifiedKFold\n",
    "from sklearn.ensemble import RandomForestClassifier\n",
    "from sklearn.metrics import accuracy_score,recall_score\n",
    "accuracy = []\n",
    "recall = []\n",
    "fold_no =[]\n",
    "def model(X,Y,folds):\n",
    "    skf = StratifiedKFold(n_splits=3,shuffle=True,random_state=0)\n",
    "    for fold,(train_idx,test_idx) in enumerate(skf.split(X,Y)):\n",
    "        train_X,val_X = X.iloc[train_idx],X.iloc[test_idx]\n",
    "        train_y,val_y = Y.iloc[train_idx],Y.iloc[test_idx]\n",
    "        \n",
    "        clf = RandomForestClassifier(n_estimators=100,max_depth=12)\n",
    "        \n",
    "        clf.fit(train_X,train_y)\n",
    "        pred = clf.predict(val_X)\n",
    "        \n",
    "        accuracy.append(round(accuracy_score(val_y,pred),4))\n",
    "        recall.append(round(recall_score(val_y,pred),4))\n",
    "        fold_no.append(fold+1)\n",
    "        \n",
    "    \n",
    "    \n",
    "    result_df = pd.DataFrame({'Accuracy' : accuracy,'Recall' : recall},index=fold_no)\n",
    "    \n",
    "    return result_df,clf"
   ]
  },
  {
   "cell_type": "code",
   "execution_count": 5,
   "metadata": {},
   "outputs": [
    {
     "name": "stderr",
     "output_type": "stream",
     "text": [
      "C:\\Users\\DD\\AppData\\Local\\Temp\\ipykernel_11640\\2873382259.py:15: DataConversionWarning: A column-vector y was passed when a 1d array was expected. Please change the shape of y to (n_samples,), for example using ravel().\n",
      "  clf.fit(train_X,train_y)\n",
      "C:\\Users\\DD\\AppData\\Local\\Temp\\ipykernel_11640\\2873382259.py:15: DataConversionWarning: A column-vector y was passed when a 1d array was expected. Please change the shape of y to (n_samples,), for example using ravel().\n",
      "  clf.fit(train_X,train_y)\n",
      "C:\\Users\\DD\\AppData\\Local\\Temp\\ipykernel_11640\\2873382259.py:15: DataConversionWarning: A column-vector y was passed when a 1d array was expected. Please change the shape of y to (n_samples,), for example using ravel().\n",
      "  clf.fit(train_X,train_y)\n"
     ]
    },
    {
     "data": {
      "text/html": [
       "<div>\n",
       "<style scoped>\n",
       "    .dataframe tbody tr th:only-of-type {\n",
       "        vertical-align: middle;\n",
       "    }\n",
       "\n",
       "    .dataframe tbody tr th {\n",
       "        vertical-align: top;\n",
       "    }\n",
       "\n",
       "    .dataframe thead th {\n",
       "        text-align: right;\n",
       "    }\n",
       "</style>\n",
       "<table border=\"1\" class=\"dataframe\">\n",
       "  <thead>\n",
       "    <tr style=\"text-align: right;\">\n",
       "      <th></th>\n",
       "      <th>Accuracy</th>\n",
       "      <th>Recall</th>\n",
       "    </tr>\n",
       "  </thead>\n",
       "  <tbody>\n",
       "    <tr>\n",
       "      <th>1</th>\n",
       "      <td>0.7540</td>\n",
       "      <td>0.6669</td>\n",
       "    </tr>\n",
       "    <tr>\n",
       "      <th>2</th>\n",
       "      <td>0.7505</td>\n",
       "      <td>0.6774</td>\n",
       "    </tr>\n",
       "    <tr>\n",
       "      <th>3</th>\n",
       "      <td>0.7553</td>\n",
       "      <td>0.6628</td>\n",
       "    </tr>\n",
       "  </tbody>\n",
       "</table>\n",
       "</div>"
      ],
      "text/plain": [
       "   Accuracy  Recall\n",
       "1    0.7540  0.6669\n",
       "2    0.7505  0.6774\n",
       "3    0.7553  0.6628"
      ]
     },
     "execution_count": 5,
     "metadata": {},
     "output_type": "execute_result"
    }
   ],
   "source": [
    "result_df,model = model(train_full_X,train_full_y,5)\n",
    "result_df"
   ]
  },
  {
   "cell_type": "code",
   "execution_count": 7,
   "metadata": {},
   "outputs": [],
   "source": [
    "predictions = model.predict(test_X)\n",
    "sub = pd.read_csv(path + 'sample_submission.csv')\n",
    "t = pd.read_csv(path + 'test.csv')\n",
    "sub['PassengerId'] = t['PassengerId']\n",
    "sub['Transported'] = predictions\n",
    "sub['Transported'] = sub['Transported'].astype(bool)\n",
    "sub.to_csv('my_submission.csv',index=False)"
   ]
  },
  {
   "cell_type": "code",
   "execution_count": null,
   "metadata": {},
   "outputs": [],
   "source": []
  },
  {
   "cell_type": "code",
   "execution_count": null,
   "metadata": {},
   "outputs": [],
   "source": [
    "\n"
   ]
  }
 ],
 "metadata": {
  "kernelspec": {
   "display_name": "base",
   "language": "python",
   "name": "python3"
  },
  "language_info": {
   "codemirror_mode": {
    "name": "ipython",
    "version": 3
   },
   "file_extension": ".py",
   "mimetype": "text/x-python",
   "name": "python",
   "nbconvert_exporter": "python",
   "pygments_lexer": "ipython3",
   "version": "3.9.13 (main, Aug 25 2022, 23:51:50) [MSC v.1916 64 bit (AMD64)]"
  },
  "orig_nbformat": 4,
  "vscode": {
   "interpreter": {
    "hash": "f76d4fda128b12615e46e0e8dd834a222e7abd956eb53de74309670d1db4104c"
   }
  }
 },
 "nbformat": 4,
 "nbformat_minor": 2
}
