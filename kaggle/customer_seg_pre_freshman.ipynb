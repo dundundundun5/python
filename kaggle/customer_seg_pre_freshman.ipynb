{
 "cells": [
  {
   "cell_type": "markdown",
   "metadata": {},
   "source": [
    "SETUP"
   ]
  },
  {
   "cell_type": "code",
   "execution_count": 2,
   "metadata": {},
   "outputs": [],
   "source": [
    "import pandas as pd\n",
    "import matplotlib.pyplot as plt\n",
    "import seaborn as sns\n",
    "import numpy as np\n",
    "input_path = \"D:/temp_files/datasets/customer_segmentation/Online Retail.xlsx\"\n",
    "output_path =  \"D:/temp_files/datasets/customer_segmentation/freshman.xlsx\"\n",
    "data = pd.read_excel(input_path)\n",
    "temp = data.copy(deep=True)"
   ]
  },
  {
   "cell_type": "markdown",
   "metadata": {},
   "source": [
    "Data Exploration\n",
    "\n",
    "<https://www.zhihu.com/question/505784526>\n",
    "\n",
    "idx = list[np.where(data['CustomerID'].str.contains) 条件获取索引\n",
    "\n",
    "查询df中数量小于0的行，提取index并转换成list\n",
    "\n",
    "idx = data_temp.query('Quantity <= 0').index.tolist()"
   ]
  },
  {
   "cell_type": "code",
   "execution_count": 20,
   "metadata": {},
   "outputs": [
    {
     "name": "stdout",
     "output_type": "stream",
     "text": [
      "<class 'pandas.core.frame.DataFrame'>\n",
      "Int64Index: 406829 entries, 0 to 541908\n",
      "Data columns (total 6 columns):\n",
      " #   Column       Non-Null Count   Dtype         \n",
      "---  ------       --------------   -----         \n",
      " 0   Quantity     406829 non-null  int64         \n",
      " 1   InvoiceDate  406829 non-null  datetime64[ns]\n",
      " 2   UnitPrice    406829 non-null  float64       \n",
      " 3   CustomerID   406829 non-null  float64       \n",
      " 4   Country      406829 non-null  object        \n",
      " 5   total_price  406829 non-null  float64       \n",
      "dtypes: datetime64[ns](1), float64(3), int64(1), object(1)\n",
      "memory usage: 21.7+ MB\n"
     ]
    }
   ],
   "source": [
    "temp.info()"
   ]
  },
  {
   "cell_type": "code",
   "execution_count": 21,
   "metadata": {},
   "outputs": [
    {
     "name": "stdout",
     "output_type": "stream",
     "text": [
      "<class 'pandas.core.frame.DataFrame'>\n",
      "RangeIndex: 541909 entries, 0 to 541908\n",
      "Data columns (total 8 columns):\n",
      " #   Column       Non-Null Count   Dtype         \n",
      "---  ------       --------------   -----         \n",
      " 0   InvoiceNo    541909 non-null  object        \n",
      " 1   StockCode    541909 non-null  object        \n",
      " 2   Description  540455 non-null  object        \n",
      " 3   Quantity     541909 non-null  int64         \n",
      " 4   InvoiceDate  541909 non-null  datetime64[ns]\n",
      " 5   UnitPrice    541909 non-null  float64       \n",
      " 6   CustomerID   406829 non-null  float64       \n",
      " 7   Country      541909 non-null  object        \n",
      "dtypes: datetime64[ns](1), float64(2), int64(1), object(4)\n",
      "memory usage: 33.1+ MB\n"
     ]
    }
   ],
   "source": [
    "data.info()"
   ]
  },
  {
   "cell_type": "markdown",
   "metadata": {},
   "source": [
    "<https://www.kaggle.com/code/mohamedattia98/full-data-science-project/notebook>\n",
    "* InvoiceNo invoice number\n",
    "* StockCode\tunique code for each transaction\n",
    "* Description description of individual item\n",
    "* Quantity number of items brought\n",
    "* InvoiceDate data of purchase\n",
    "* UnitPrice Price of individual unit\n",
    "* CustomerID unique ID for each customer\n",
    "* Country country name"
   ]
  },
  {
   "cell_type": "markdown",
   "metadata": {},
   "source": [
    "缺失值以及无关行列的处理\n",
    "https://archive.ics.uci.edu/ml/datasets/online+retail\n"
   ]
  },
  {
   "cell_type": "code",
   "execution_count": 2,
   "metadata": {},
   "outputs": [],
   "source": [
    "# 去除ID列的nan值，在原数据集里表示为空白\n",
    "temp.dropna(subset='CustomerID', inplace=True)\n"
   ]
  },
  {
   "cell_type": "code",
   "execution_count": 3,
   "metadata": {},
   "outputs": [],
   "source": [
    "# 去除无用列，暂时尝试不按照商品种类划分\n",
    "features_droped = ['Description', 'StockCode', 'InvoiceNo']\n",
    "temp.drop(labels=features_droped, axis=1, inplace=True)\n"
   ]
  },
  {
   "cell_type": "markdown",
   "metadata": {},
   "source": [
    "获取光顾频率"
   ]
  },
  {
   "cell_type": "code",
   "execution_count": 18,
   "metadata": {},
   "outputs": [],
   "source": [
    "# 按ID分组，获取日期的最大最小值\n",
    "grouped_date = temp.groupby(['CustomerID']).InvoiceDate.agg([min, max])\n",
    "# 获取光临的总时间间隔\n",
    "grouped_date['interval'] = pd.to_datetime(grouped_date['max']) - pd.to_datetime(grouped_date['min']) \n",
    "# 当天来多次，时间天数间隔为0，故+1\n",
    "grouped_date['interval'] = grouped_date['interval'].apply(lambda row: row.days+1)\n",
    "# 获取总计光顾次数\n",
    "grouped_date = pd.concat([grouped_date, temp.groupby(['CustomerID']).InvoiceDate.agg([len])], axis=1)\n",
    "# 在此标准下，计算光顾频率\n",
    "grouped_date['frequency'] = grouped_date['len'] / grouped_date['interval']\n",
    "grouped_date.drop(labels=['min','max','len','interval'], axis=1, inplace=True)"
   ]
  },
  {
   "cell_type": "markdown",
   "metadata": {},
   "source": [
    "获取总额度，注意到，有一些Quantity（商品数）的值为负数，可以推测不是错误记录，但具体物理含义需要查阅资料"
   ]
  },
  {
   "cell_type": "code",
   "execution_count": 16,
   "metadata": {},
   "outputs": [],
   "source": [
    "# 原数据列中增加total行，表示当前交易行为的总交易额\n",
    "temp['total_price'] = temp.Quantity * temp.UnitPrice\n",
    "# 按ID分组后，算出该分组内的总额度\n",
    "grouped_total_price = temp.groupby(['CustomerID']).total_price.sum()\n",
    "grouped_total_quantity = temp.groupby(['CustomerID']).Quantity.sum()\n",
    "# 获取总额度/数量\n",
    "grouped_total = pd.concat(axis=1, objs=[grouped_total_price, grouped_total_quantity])\n",
    "# 交易数量为0，但是交易额为正数，此处假设为交易人白赚了一笔\n",
    "grouped_total.Quantity.replace(to_replace=0, value=1, inplace=True)\n",
    "grouped_total['price_d_quantity'] = grouped_total['total_price'] / grouped_total['Quantity']\n"
   ]
  },
  {
   "cell_type": "markdown",
   "metadata": {},
   "source": [
    "现在尝试数据进行特征缩放、编码"
   ]
  },
  {
   "cell_type": "code",
   "execution_count": 19,
   "metadata": {},
   "outputs": [],
   "source": [
    "grouped = pd.concat(objs=[grouped_date, grouped_total], axis=1)\n",
    "del grouped_total_price, grouped_total_quantity, grouped_date"
   ]
  },
  {
   "cell_type": "code",
   "execution_count": 27,
   "metadata": {},
   "outputs": [],
   "source": [
    "from sklearn.preprocessing import StandardScaler\n",
    "scaler = StandardScaler()\n",
    "scaled_grouped = scaler.fit_transform(grouped)\n",
    "scaled_grouped = pd.DataFrame(index=grouped.index,data=scaled_grouped, columns=grouped.columns)"
   ]
  },
  {
   "cell_type": "markdown",
   "metadata": {},
   "source": [
    "代码输出到文件，从而保存预处理的结果，这是一个新手预处理"
   ]
  },
  {
   "cell_type": "code",
   "execution_count": null,
   "metadata": {},
   "outputs": [],
   "source": [
    "scaled_grouped.to_excel(output_path, sheet_name='Sheet1', index=True)"
   ]
  }
 ],
 "metadata": {
  "kernelspec": {
   "display_name": "Python 3.10.7 64-bit",
   "language": "python",
   "name": "python3"
  },
  "language_info": {
   "codemirror_mode": {
    "name": "ipython",
    "version": 3
   },
   "file_extension": ".py",
   "mimetype": "text/x-python",
   "name": "python",
   "nbconvert_exporter": "python",
   "pygments_lexer": "ipython3",
   "version": "3.10.7"
  },
  "orig_nbformat": 4,
  "vscode": {
   "interpreter": {
    "hash": "6cd7ecbf46b3498f952f614292bd9b98de37d868a382baadab1fa3f5188ed6c2"
   }
  }
 },
 "nbformat": 4,
 "nbformat_minor": 2
}
