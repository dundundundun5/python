{
 "cells": [
  {
   "cell_type": "markdown",
   "metadata": {},
   "source": [
    "# 预处理\n",
    "\n",
    "在预处理数据之前，先对spaceship_titanic_exploration.ipynb数据探索作简单整理\n",
    "## 已知\n",
    "* PassengerId/HomePlanet/Cabin/Destination/Name\n",
    "\n",
    "        PassengerId是顾客的标识符，由(组_组内号)表示，同一组的乘客一般为一家人；HomePlanet是家乡；Cabin是deck/num/side，处理方法需要参考；Destination是目的地，一家人、一组人的目的地是否一致？；Name是乘客姓名，对分类意义不大\n",
    "* Age\n",
    "\n",
    "        Age是乘客的年龄，是纯数值，不天生具有正态分布\n",
    "* CryoSleep/VIP\n",
    "\n",
    "        CryoSleep-是否睡在冷冻仓，是bool值，经过观察，在不在冷冻都有概率传送走；VIP-是否为会员，是bool值，VIP数量很少\n",
    "* RoomService/FoodCourt/ShoppingMall/Spa/VRDeck\n",
    "\n",
    "        开销，开销的呈现形式非常零散，而开销总和是应该被计算的\n",
    "* 总结\n",
    "\n",
    "\n",
    "        在两份数据集的完整度上，由于PassengerId是完整的，因此在缺失值填充的过程中应该优先考虑组，"
   ]
  },
  {
   "cell_type": "code",
   "execution_count": 1,
   "metadata": {},
   "outputs": [],
   "source": [
    "import pandas as pd\n",
    "import numpy as np\n",
    "import matplotlib.pyplot as plt\n",
    "import seaborn as sns\n",
    "path = \"D:/temp_files/datasets/spaceship_titanic/\"\n",
    "train = pd.read_csv(path + \"train.csv\")\n",
    "test = pd.read_csv(path + \"test.csv\")\n",
    "train = train.drop(axis=1, labels='Name')\n",
    "test = test.drop(axis=1, labels='Name')"
   ]
  },
  {
   "cell_type": "markdown",
   "metadata": {},
   "source": [
    "## 缺失值填充\n",
    "\n",
    "HomePlanet/Destination一律用"
   ]
  },
  {
   "cell_type": "code",
   "execution_count": 2,
   "metadata": {},
   "outputs": [
    {
     "name": "stdout",
     "output_type": "stream",
     "text": [
      "Earth     4602\n",
      "Europa    2131\n",
      "Mars      1759\n",
      "Name: HomePlanet, dtype: int64\n",
      "TRAPPIST-1e      5915\n",
      "55 Cancri e      1800\n",
      "PSO J318.5-22     796\n",
      "Name: Destination, dtype: int64\n"
     ]
    }
   ],
   "source": [
    "print(train.HomePlanet.value_counts())\n",
    "print(train.Destination.value_counts())"
   ]
  },
  {
   "cell_type": "code",
   "execution_count": 3,
   "metadata": {},
   "outputs": [],
   "source": [
    "train.HomePlanet.fillna(value='Earth', inplace=True)\n",
    "train.Destination.fillna(value='TRAPPIST-1e', inplace=True)\n",
    "test.HomePlanet.fillna(value='Earth', inplace=True)\n",
    "test.Destination.fillna(value='TRAPPIST-1e', inplace=True)\n",
    "def dest(row):\n",
    "    if row == 'TRAPPIST-1e':\n",
    "        return 'T'\n",
    "    elif row == '55 Cancri e':\n",
    "        return 'C'\n",
    "    else:\n",
    "        return 'P'\n",
    "train.Destination = train.Destination.apply(dest)\n",
    "test.Destination = test.Destination.apply(dest)"
   ]
  },
  {
   "cell_type": "code",
   "execution_count": 4,
   "metadata": {},
   "outputs": [],
   "source": [
    "train.Age.fillna(value=train.Age.mean(), inplace=True)\n",
    "test.Age.fillna(value=test.Age.mean(), inplace=True)\n",
    "train['Total'] = 0\n",
    "test['Total'] = 0\n",
    "services = \"RoomService/FoodCourt/ShoppingMall/Spa/VRDeck\".split(\"/\")\n",
    "for service in services:\n",
    "    train[service].fillna(value=train[service].mean(), inplace=True)\n",
    "    test[service].fillna(value=test[service].mean(), inplace=True)\n",
    "    train['Total'] = train['Total'] + train[service]\n",
    "    test['Total'] = test['Total'] + test[service]\n",
    "train.Total = train.Total.apply(lambda x : round(x))\n",
    "test.Total = test.Total.apply(lambda x : round(x))"
   ]
  },
  {
   "cell_type": "code",
   "execution_count": 5,
   "metadata": {},
   "outputs": [
    {
     "name": "stdout",
     "output_type": "stream",
     "text": [
      "False    5439\n",
      "True     3037\n",
      "Name: CryoSleep, dtype: int64\n",
      "False    8291\n",
      "True      199\n",
      "Name: VIP, dtype: int64\n",
      "False    2640\n",
      "True     1544\n",
      "Name: CryoSleep, dtype: int64\n",
      "False    4110\n",
      "True       74\n",
      "Name: VIP, dtype: int64\n"
     ]
    }
   ],
   "source": [
    "print(train.CryoSleep.value_counts())\n",
    "print(train.VIP.value_counts())\n",
    "print(test.CryoSleep.value_counts())\n",
    "print(test.VIP.value_counts())"
   ]
  },
  {
   "cell_type": "code",
   "execution_count": 6,
   "metadata": {},
   "outputs": [],
   "source": [
    "train.VIP.fillna(value=False, inplace=True)\n",
    "train.CryoSleep.fillna(value=False, inplace=True)\n",
    "test.VIP.fillna(value=False, inplace=True)\n",
    "test.CryoSleep.fillna(value=False, inplace=True)"
   ]
  },
  {
   "cell_type": "code",
   "execution_count": 7,
   "metadata": {},
   "outputs": [],
   "source": [
    "def break_down_passengerId(df):\n",
    "    df['group_id'] = df['PassengerId'].apply(lambda x: x.split('_')[0])\n",
    "    \n",
    "    return df\n",
    "train = break_down_passengerId(train)\n",
    "test = break_down_passengerId(test)"
   ]
  },
  {
   "cell_type": "code",
   "execution_count": null,
   "metadata": {},
   "outputs": [],
   "source": []
  },
  {
   "cell_type": "code",
   "execution_count": 8,
   "metadata": {},
   "outputs": [],
   "source": [
    "def Cabin_Column(df):\n",
    "    df['Cabin'] = df['Cabin'].fillna(df['Cabin'].mode()[0])  \n",
    "    \n",
    "    df['deck'] = df['Cabin'].apply(lambda x: x.split('/')[0])\n",
    "    df['num'] = df['Cabin'].apply(lambda x: x.split('/')[1])\n",
    "    df['side'] = df['Cabin'].apply(lambda x: x.split('/')[2])\n",
    "    return df\n",
    "train = Cabin_Column(train)\n",
    "test = Cabin_Column(test)\n"
   ]
  },
  {
   "cell_type": "code",
   "execution_count": 9,
   "metadata": {},
   "outputs": [],
   "source": [
    "train.drop(labels=['PassengerId','RoomService', 'FoodCourt', 'ShoppingMall', 'Spa', 'VRDeck', 'Cabin'], inplace=True, axis=1)\n",
    "test.drop(labels=['PassengerId','RoomService', 'FoodCourt', 'ShoppingMall', 'Spa', 'VRDeck', 'Cabin'], inplace=True, axis=1)"
   ]
  },
  {
   "cell_type": "code",
   "execution_count": 10,
   "metadata": {},
   "outputs": [],
   "source": [
    "def featureCreation(df):\n",
    "    from sklearn.preprocessing import LabelEncoder\n",
    "    le = LabelEncoder()\n",
    "    df['deck'] = le.fit_transform(df['deck'])\n",
    "    df['num'] = le.fit_transform(df['num'])\n",
    "    df['side'] = le.fit_transform(df['side'])\n",
    "\n",
    "    \n",
    "    return df\n",
    "\n",
    "train = featureCreation(train)\n",
    "test  = featureCreation(test)"
   ]
  },
  {
   "cell_type": "code",
   "execution_count": 11,
   "metadata": {},
   "outputs": [],
   "source": [
    "cols = ['HomePlanet','Destination','VIP','CryoSleep']\n",
    "def Encoding(df,cols):\n",
    "    from sklearn.preprocessing import LabelEncoder\n",
    "    le = LabelEncoder()\n",
    "    for c in cols:\n",
    "        df[c] = le.fit_transform(df[c])\n",
    "    return df\n",
    "\n",
    "train = Encoding(train,cols)\n",
    "test = Encoding(test,cols)"
   ]
  },
  {
   "cell_type": "code",
   "execution_count": 12,
   "metadata": {},
   "outputs": [],
   "source": [
    "def check_family_members(df):\n",
    "    df['No_of_family_members'] = df['group_id'].map(df['group_id'].value_counts())\n",
    "    return df\n",
    "train = check_family_members(train)\n",
    "test = check_family_members(test)"
   ]
  },
  {
   "cell_type": "code",
   "execution_count": 13,
   "metadata": {},
   "outputs": [],
   "source": [
    "def Age(df):\n",
    "    df['Youth'] = df['Age'].apply(lambda x: 1 if x>0 and x<=18 else 0)\n",
    "    df['Adult'] = df['Age'].apply(lambda x: 1 if x>18 else 0)\n",
    "    \n",
    "    return df\n",
    "\n",
    "train = Age(train)\n",
    "test = Age(test)"
   ]
  },
  {
   "cell_type": "code",
   "execution_count": 14,
   "metadata": {},
   "outputs": [],
   "source": [
    "for col in train.columns:\n",
    "    if train[col].dtype == bool:\n",
    "        train[col]=train[col].astype('int')\n",
    "for col in test.columns:\n",
    "    if test[col].dtype == bool:\n",
    "        test[col]=test[col].astype('int')"
   ]
  },
  {
   "cell_type": "code",
   "execution_count": 15,
   "metadata": {},
   "outputs": [],
   "source": [
    "train.drop(axis=1,labels=['group_id', 'Age'], inplace=True)\n",
    "test.drop(axis=1,labels=['group_id', 'Age'], inplace=True)"
   ]
  },
  {
   "cell_type": "code",
   "execution_count": 19,
   "metadata": {},
   "outputs": [
    {
     "data": {
      "text/plain": [
       "<AxesSubplot:xlabel='No_of_family_members', ylabel='count'>"
      ]
     },
     "execution_count": 19,
     "metadata": {},
     "output_type": "execute_result"
    },
    {
     "data": {
      "image/png": "[encoded data removed]",
      "text/plain": [
       "<Figure size 640x480 with 1 Axes>"
      ]
     },
     "metadata": {},
     "output_type": "display_data"
    }
   ],
   "source": [
    "sns.countplot(data=train, x='No_of_family_members')"
   ]
  },
  {
   "cell_type": "code",
   "execution_count": 23,
   "metadata": {},
   "outputs": [
    {
     "data": {
      "text/plain": [
       "<AxesSubplot:xlabel='Adult', ylabel='count'>"
      ]
     },
     "execution_count": 23,
     "metadata": {},
     "output_type": "execute_result"
    },
    {
     "data": {
      "image/png": "[encoded data removed]",
      "text/plain": [
       "<Figure size 640x480 with 1 Axes>"
      ]
     },
     "metadata": {},
     "output_type": "display_data"
    }
   ],
   "source": [
    "sns.countplot(data=train, x='Adult',hue='Transported')"
   ]
  },
  {
   "cell_type": "code",
   "execution_count": 16,
   "metadata": {},
   "outputs": [],
   "source": [
    "def Scaling(df,name):\n",
    "    from sklearn.preprocessing import StandardScaler\n",
    "    if name == 'train':\n",
    "        t_data = df.copy().drop('Transported',axis=1)\n",
    "        ss = StandardScaler()\n",
    "        ss.fit(t_data)\n",
    "        dff = pd.DataFrame(ss.transform(t_data),index=t_data.index,columns=t_data.columns)\n",
    "        dff['Transported'] = df['Transported']\n",
    "    \n",
    "    else:\n",
    "        ss = StandardScaler()\n",
    "        ss.fit(df)\n",
    "        dff = pd.DataFrame(ss.transform(df),index=df.index,columns=df.columns)\n",
    "        \n",
    "    return dff\n",
    "\n",
    "train = Scaling(train,'train')\n",
    "test = Scaling(test,'test')"
   ]
  },
  {
   "cell_type": "code",
   "execution_count": 17,
   "metadata": {},
   "outputs": [],
   "source": [
    "train.to_csv(path + \"train_full.csv\", index=False)\n",
    "test.to_csv(path + \"test_full.csv\", index=False)"
   ]
  }
 ],
 "metadata": {
  "kernelspec": {
   "display_name": "Python 3.9.13 ('base')",
   "language": "python",
   "name": "python3"
  },
  "language_info": {
   "codemirror_mode": {
    "name": "ipython",
    "version": 3
   },
   "file_extension": ".py",
   "mimetype": "text/x-python",
   "name": "python",
   "nbconvert_exporter": "python",
   "pygments_lexer": "ipython3",
   "version": "3.9.13"
  },
  "orig_nbformat": 4,
  "vscode": {
   "interpreter": {
    "hash": "f76d4fda128b12615e46e0e8dd834a222e7abd956eb53de74309670d1db4104c"
   }
  }
 },
 "nbformat": 4,
 "nbformat_minor": 2
}
