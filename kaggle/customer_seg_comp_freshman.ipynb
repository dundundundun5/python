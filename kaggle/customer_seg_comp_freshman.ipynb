{
 "cells": [
  {
   "cell_type": "code",
   "execution_count": null,
   "metadata": {},
   "outputs": [],
   "source": [
    "import pandas as pd\n",
    "import matplotlib.pyplot as plt\n",
    "import seaborn as sns\n",
    "import numpy as np\n",
    "input_path = \"D:/temp_files/datasets/customer_segmentation/freshman.xlsx\"\n",
    "data = pd.read_excel(input_path, index_col='CustomerID')"
   ]
  },
  {
   "cell_type": "markdown",
   "metadata": {},
   "source": [
    "1. 应用kmeans，并且评估聚类的惯性和轮廓系数"
   ]
  },
  {
   "cell_type": "code",
   "execution_count": null,
   "metadata": {},
   "outputs": [],
   "source": [
    "from sklearn.cluster import KMeans\n",
    "from sklearn.metrics import silhouette_score\n",
    "\n",
    "kmeans_per_k = [KMeans(n_clusters=k, random_state=42, n_init=10).fit(data) for k in range(2,10)]\n",
    "inertia = [model.inertia_ for model in kmeans_per_k]\n",
    "silhouette_scores = [silhouette_score(data, model.labels_) for model in kmeans_per_k]"
   ]
  },
  {
   "cell_type": "code",
   "execution_count": null,
   "metadata": {},
   "outputs": [],
   "source": [
    "plt.figure(figsize=(10,10))\n",
    "k_arr = range(2, 10)\n",
    "plt.subplot(121)\n",
    "plt.title('relationship between silhouette and k')\n",
    "plt.xlim(0,10)\n",
    "plt.xlabel('k')\n",
    "plt.ylim(-1,1)\n",
    "plt.ylabel('silhouette score')\n",
    "sns.lineplot(y=silhouette_scores, x=k_arr)\n",
    "plt.subplot(122)\n",
    "plt.title('relationship betwwen inertia and k')\n",
    "plt.xlim(0,10)\n",
    "plt.xlabel('k')\n",
    "plt.ylim(1800,13000)\n",
    "plt.ylabel('inertia')\n",
    "sns.lineplot(y=inertia, x=k_arr)"
   ]
  },
  {
   "cell_type": "code",
   "execution_count": null,
   "metadata": {},
   "outputs": [],
   "source": [
    "best_kmeans = KMeans(n_clusters=6, random_state=42, n_init=10).fit(data)\n",
    "a = best_kmeans.labels_\n",
    "\n",
    "sns.relplot(data=a)"
   ]
  },
  {
   "cell_type": "markdown",
   "metadata": {},
   "source": [
    "使用DBSCAN方法"
   ]
  },
  {
   "cell_type": "code",
   "execution_count": null,
   "metadata": {},
   "outputs": [],
   "source": [
    "from sklearn.cluster import DBSCAN\n",
    "eps=0.05\n",
    "n_samples = 5\n",
    "dbscan = DBSCAN(esp=eps, n_samples=n_samples)"
   ]
  }
 ],
 "metadata": {
  "kernelspec": {
   "display_name": "Python 3.10.7 64-bit",
   "language": "python",
   "name": "python3"
  },
  "language_info": {
   "codemirror_mode": {
    "name": "ipython",
    "version": 3
   },
   "file_extension": ".py",
   "mimetype": "text/x-python",
   "name": "python",
   "nbconvert_exporter": "python",
   "pygments_lexer": "ipython3",
   "version": "3.10.7"
  },
  "orig_nbformat": 4,
  "vscode": {
   "interpreter": {
    "hash": "6cd7ecbf46b3498f952f614292bd9b98de37d868a382baadab1fa3f5188ed6c2"
   }
  }
 },
 "nbformat": 4,
 "nbformat_minor": 2
}
