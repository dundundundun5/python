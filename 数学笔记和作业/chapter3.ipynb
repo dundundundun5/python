{
 "cells": [
  {
   "cell_type": "code",
   "execution_count": 1,
   "metadata": {},
   "outputs": [],
   "source": [
    "def fibonacci_index(ratio=0.03):\n",
    "    \"\"\"\n",
    "\n",
    "    :param ratio: Ln / L1 <= ratio\n",
    "    :return: 找出第n项使得Ln / l1 > ratio\n",
    "    \"\"\"\n",
    "    pre, cur = 1, 1\n",
    "    i = 1\n",
    "    limit = 1. / ratio\n",
    "    # 循环计算Fb数列\n",
    "    while cur < limit:\n",
    "        temp = pre + cur\n",
    "        pre = cur\n",
    "        cur = temp\n",
    "        i += 1\n",
    "    return i\n",
    "\n",
    "\n",
    "def fibonacci_value(n):\n",
    "    \"\"\"\n",
    "\n",
    "    :param n: Fb数列里从0开始的第n项\n",
    "    :return:  第n项的值\n",
    "    \"\"\"\n",
    "    if n == 0 or n == 1:\n",
    "        return 1\n",
    "    else:\n",
    "        return fibonacci_value(n - 1) + fibonacci_value(n - 2)\n",
    "\n",
    "\n",
    "def fibonacci_search(low, high, n, f):\n",
    "    # 手动计算F_n和F_n-1\n",
    "    F = [fibonacci_value(n), fibonacci_value(n - 1)]\n",
    "    # 算出l1\n",
    "    l = (high - low) * F[1] / F[0]\n",
    "    # 最初手动计算左右点\n",
    "    left, right = min(high - l, low + l), max(high - l, low + l)\n",
    "    while n >= 0:\n",
    "        # print(\"区间为:[%.3f,%.3f]\" % (low, high))\n",
    "        f_left, f_right = f(left), f(right)\n",
    "        # 左区间 右保留\n",
    "        global temp\n",
    "        if f_left > f_right:\n",
    "            low = left\n",
    "            # 公式算出另一个点\n",
    "            another = low + high - right\n",
    "            # 保证结尾代码统一\n",
    "            temp = right\n",
    "        else:\n",
    "            # 右区间，左保留\n",
    "            high = right\n",
    "            # 算出另一个点\n",
    "            another = low + high - left\n",
    "            # 保证结尾代码统一\n",
    "            temp = left\n",
    "        # 左右点更新 （新计算的点，保留点）\n",
    "        left, right = min(temp, another), max(temp, another)\n",
    "        n -= 1\n",
    "    return [low, high], (low + high) / 2\n"
   ]
  },
  {
   "cell_type": "code",
   "execution_count": 2,
   "metadata": {},
   "outputs": [
    {
     "name": "stdout",
     "output_type": "stream",
     "text": [
      "斐波那契分割，最终区间和中点为([2.9411764705882337, 3.235294117647043], 3.0882352941176383)\n",
      "min x point=3.07\n"
     ]
    }
   ],
   "source": [
    "min_x = 3.07\n",
    "print(f\"斐波那契分割，最终区间和中点为{fibonacci_search(0, 10, fibonacci_index(), lambda x: x ** 2 - 6 * x + 2)}\")\n",
    "print(f\"min x point={min_x}\")"
   ]
  },
  {
   "cell_type": "code",
   "execution_count": 3,
   "metadata": {},
   "outputs": [],
   "source": [
    "# 0.618\n",
    "def golden_section_search(low, high, f, epoch=5, LAMBDA=0.618):\n",
    "    # 左右点的初值\n",
    "    left = low + (1 - LAMBDA) * (high - low)\n",
    "    right = low + LAMBDA * (high - low)\n",
    "    for i in range(epoch):\n",
    "        # 选取计算出在数轴左边的点和右边的点\n",
    "        left, right = (right, left) if left > right else (left, right)\n",
    "        # print(\"区间为:[%.3f,%.3f]\" % (low, high))\n",
    "        # print(f\"选取点为left={left},right={right}\")\n",
    "        f_left, f_right = f(left), f(right)\n",
    "        if f_left > f_right:\n",
    "            low = left\n",
    "            # 左点变为区间端点，右点变为保留点，计算新左点\n",
    "            left = low + (1 - LAMBDA) * (high - low)\n",
    "        else:\n",
    "            high = right\n",
    "            # 同理\n",
    "            right = low + LAMBDA * (high - low)\n",
    "    return [low, high], (low + high) / 2"
   ]
  },
  {
   "cell_type": "code",
   "execution_count": 4,
   "metadata": {},
   "outputs": [
    {
     "name": "stdout",
     "output_type": "stream",
     "text": [
      "黄金分割，最终区间和中点为([2.36076, 3.8192399999999997], 3.09)\n",
      "min x point=3.07\n"
     ]
    }
   ],
   "source": [
    "min_x = 3.07\n",
    "print(f\"黄金分割，最终区间和中点为{golden_section_search(0, 10, lambda x: x ** 2 - 6 * x + 2)}\")\n",
    "print(f\"min x point={min_x}\")"
   ]
  }
 ],
 "metadata": {
  "kernelspec": {
   "display_name": "base",
   "language": "python",
   "name": "python3"
  },
  "language_info": {
   "codemirror_mode": {
    "name": "ipython",
    "version": 3
   },
   "file_extension": ".py",
   "mimetype": "text/x-python",
   "name": "python",
   "nbconvert_exporter": "python",
   "pygments_lexer": "ipython3",
   "version": "3.9.13"
  },
  "orig_nbformat": 4
 },
 "nbformat": 4,
 "nbformat_minor": 2
}
